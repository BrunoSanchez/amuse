{
 "cells": [
  {
   "cell_type": "markdown",
   "metadata": {},
   "source": [
    "In many community codes and for a lot of algorithms it makes sense to use units for which the base units are not (fully) specified. This is often the case when e.g. the equations solved are scale free or for initial conditions where similar models can be scaled to different sizes. Although the quantities involved do not have a specific unit base, they still have a dimension (mass, length etc.). In AMUSE we can use *generic units* in this case. In other words, you can specify if a value has a *mass*, *length* or *time* dimension, or any combination thereof, such as *length* per *time*.\n",
    "\n",
    "First import everything from amuse.lab:"
   ]
  },
  {
   "cell_type": "code",
   "execution_count": 1,
   "metadata": {},
   "outputs": [],
   "source": [
    "from amuse.lab import *"
   ]
  },
  {
   "cell_type": "markdown",
   "metadata": {},
   "source": [
    "AMUSE includes two generic unit systems, the **generic_unit_system** is the most general, the **nbody_system** is a special case and always defines the gravitational constant to be `G=1`. For gravity calculations the **nbody_system** module is recommended as this follows the general practice in most n-body codes.\n",
    "\n",
    "The generic units are defined in the **generic_system** and **nbody_system** modules."
   ]
  },
  {
   "cell_type": "code",
   "execution_count": 2,
   "metadata": {},
   "outputs": [
    {
     "name": "stdout",
     "output_type": "stream",
     "text": [
      "10.0 length\n",
      "10.0 length\n"
     ]
    }
   ],
   "source": [
    "print 10.0 | nbody_system.length\n",
    "print 10.0 | generic_unit_system.length"
   ]
  },
  {
   "cell_type": "markdown",
   "metadata": {},
   "source": [
    "Quantities with generic units work exactly the same as quantities with normal (**S.I.**) units."
   ]
  },
  {
   "cell_type": "code",
   "execution_count": 3,
   "metadata": {},
   "outputs": [
    {
     "name": "stdout",
     "output_type": "stream",
     "text": [
      "0.1 length**2 * time**-1\n"
     ]
    }
   ],
   "source": [
    "cluster_mass = 1.0 | generic_unit_system.length\n",
    "mean_speed = 0.1 | generic_unit_system.length / generic_unit_system.time\n",
    "print mean_speed * cluster_mass"
   ]
  },
  {
   "cell_type": "markdown",
   "metadata": {},
   "source": [
    "\n",
    "Generic quantities are very useful and can be applied almost everywhere in AMUSE. \n",
    "\n",
    "To convert to a specific system of units you'll need a converter. For nbody units you can create a converter like this:"
   ]
  },
  {
   "cell_type": "code",
   "execution_count": 4,
   "metadata": {},
   "outputs": [],
   "source": [
    "converter = nbody_system.nbody_to_si(1 | units.MSun, 1 | units.AU)"
   ]
  },
  {
   "cell_type": "markdown",
   "metadata": {},
   "source": [
    "An ``nbody_system`` converter always needs two orthogonal quantities, besides `G=1` which is already defined. These quantities can be simple (like 1 solar mass) or combined (like  10 km/s). The two quantities fix the scaling and will be used to convert to and from the nbody units:"
   ]
  },
  {
   "cell_type": "code",
   "execution_count": 5,
   "metadata": {},
   "outputs": [
    {
     "name": "stdout",
     "output_type": "stream",
     "text": [
      "Mass of the sun, scaled: 1.0 mass\n",
      "10 nbody masses, in S.I.: 1.98892e+31 kg\n",
      "1 nbody time, in S.I: 0.159141174195 yr\n",
      "10 km/s, in nbody: 0.335700383529 length * time**-1\n"
     ]
    }
   ],
   "source": [
    "print \"Mass of the sun, scaled:\" , converter.to_nbody(1 | units.MSun)\n",
    "print \"10 nbody masses, in S.I.:\" , converter.to_si(10 | nbody_system.mass)\n",
    "print \"1 nbody time, in S.I:\" , converter.to_si(1 | nbody_system.time).as_quantity_in(units.yr)\n",
    "print \"10 km/s, in nbody:\" , converter.to_nbody(10.0 | units.km / units.s)"
   ]
  },
  {
   "cell_type": "markdown",
   "metadata": {},
   "source": [
    "For the generic unit converter, you can specify up to 7 quantities (as there are 7 base properties). Any combination of quantities is possible as long as it results in a orthogonal set of converters. "
   ]
  },
  {
   "cell_type": "code",
   "execution_count": 6,
   "metadata": {},
   "outputs": [
    {
     "name": "stdout",
     "output_type": "stream",
     "text": [
      "Mass of the sun, scaled: 1.0 mass\n",
      "10 generic masses, in S.I.: 1.98892e+31 kg\n",
      "1 generic time, in S.I: 0.159141174195 yr\n",
      "10 km/s, in generic: 0.335700383529 length * time**-1\n"
     ]
    }
   ],
   "source": [
    "converter = generic_unit_converter.ConvertBetweenGenericAndSiUnits(1 | units.MSun, 1 | units.AU, constants.G)\n",
    "print \"Mass of the sun, scaled:\" , converter.to_nbody(1 | units.MSun)\n",
    "print \"10 generic masses, in S.I.:\" , converter.to_si(10 | nbody_system.mass)\n",
    "print \"1 generic time, in S.I:\" , converter.to_si(1 | nbody_system.time).as_quantity_in(units.yr)\n",
    "print \"10 km/s, in generic:\" , converter.to_nbody(10.0 | units.km / units.s)"
   ]
  },
  {
   "cell_type": "code",
   "execution_count": 7,
   "metadata": {},
   "outputs": [
    {
     "name": "stdout",
     "output_type": "stream",
     "text": [
      "Mass of the sun, scaled: 1.0 mass\n",
      "10 generic masses, in S.I.: 1.98892e+31 kg\n",
      "1 generic time, in S.I: 1.0 yr\n",
      "10 km/s, in generic: 2.10945021128 length * time**-1\n"
     ]
    }
   ],
   "source": [
    "converter = generic_unit_converter.ConvertBetweenGenericAndSiUnits(1 | units.MSun, 1 | units.AU, 1 | units.yr)\n",
    "print \"Mass of the sun, scaled:\" , converter.to_nbody(1 | units.MSun)\n",
    "print \"10 generic masses, in S.I.:\" , converter.to_si(10 | nbody_system.mass)\n",
    "print \"1 generic time, in S.I:\" , converter.to_si(1 | nbody_system.time).as_quantity_in(units.yr)\n",
    "print \"10 km/s, in generic:\" , converter.to_nbody(10.0 | units.km / units.s)"
   ]
  },
  {
   "cell_type": "markdown",
   "metadata": {},
   "source": [
    "Specifying a length twice or specifying a speed and a length and a time will result in an error. "
   ]
  },
  {
   "cell_type": "code",
   "execution_count": 8,
   "metadata": {},
   "outputs": [
    {
     "ename": "UnitsNotOrtogonalException",
     "evalue": "The number of orthoganal units is incorrect, expected 3 but found 2. To convert between S.I. units and another system of units a set of quantities with orthogonal units is needed. These can be quantities with a single unit (such as length or time) or quantities with a derived units (such as velocity or force)",
     "output_type": "error",
     "traceback": [
      "\u001b[0;31m---------------------------------------------------------------------------\u001b[0m",
      "\u001b[0;31mUnitsNotOrtogonalException\u001b[0m                Traceback (most recent call last)",
      "\u001b[0;32m<ipython-input-8-2872816a1ff9>\u001b[0m in \u001b[0;36m<module>\u001b[0;34m()\u001b[0m\n\u001b[1;32m      2\u001b[0m     \u001b[0;36m1\u001b[0m \u001b[0;34m|\u001b[0m \u001b[0munits\u001b[0m\u001b[0;34m.\u001b[0m\u001b[0mMSun\u001b[0m\u001b[0;34m,\u001b[0m\u001b[0;34m\u001b[0m\u001b[0m\n\u001b[1;32m      3\u001b[0m     \u001b[0;36m1\u001b[0m \u001b[0;34m|\u001b[0m \u001b[0munits\u001b[0m\u001b[0;34m.\u001b[0m\u001b[0mAU\u001b[0m\u001b[0;34m,\u001b[0m\u001b[0;34m\u001b[0m\u001b[0m\n\u001b[0;32m----> 4\u001b[0;31m     \u001b[0;36m1\u001b[0m \u001b[0;34m|\u001b[0m \u001b[0munits\u001b[0m\u001b[0;34m.\u001b[0m\u001b[0mm\u001b[0m\u001b[0;34m\u001b[0m\u001b[0m\n\u001b[0m\u001b[1;32m      5\u001b[0m )\n",
      "\u001b[0;32m/home/bruno/Software/amuse/src/amuse/units/generic_unit_converter.pyc\u001b[0m in \u001b[0;36m__init__\u001b[0;34m(self, *arguments_list)\u001b[0m\n\u001b[1;32m     90\u001b[0m                 \u001b[0mavailable_units\u001b[0m\u001b[0;34m.\u001b[0m\u001b[0madd\u001b[0m\u001b[0;34m(\u001b[0m\u001b[0mbase_unit\u001b[0m\u001b[0;34m)\u001b[0m\u001b[0;34m\u001b[0m\u001b[0m\n\u001b[1;32m     91\u001b[0m         \u001b[0;32mif\u001b[0m \u001b[0;32mnot\u001b[0m \u001b[0mlen\u001b[0m\u001b[0;34m(\u001b[0m\u001b[0mavailable_units\u001b[0m\u001b[0;34m)\u001b[0m \u001b[0;32mis\u001b[0m \u001b[0mself\u001b[0m\u001b[0;34m.\u001b[0m\u001b[0msystem_rank\u001b[0m\u001b[0;34m:\u001b[0m\u001b[0;34m\u001b[0m\u001b[0m\n\u001b[0;32m---> 92\u001b[0;31m             \u001b[0;32mraise\u001b[0m \u001b[0mUnitsNotOrtogonalException\u001b[0m\u001b[0;34m(\u001b[0m\u001b[0mself\u001b[0m\u001b[0;34m.\u001b[0m\u001b[0msystem_rank\u001b[0m\u001b[0;34m,\u001b[0m \u001b[0mlen\u001b[0m\u001b[0;34m(\u001b[0m\u001b[0mavailable_units\u001b[0m\u001b[0;34m)\u001b[0m\u001b[0;34m)\u001b[0m\u001b[0;34m\u001b[0m\u001b[0m\n\u001b[0m\u001b[1;32m     93\u001b[0m         \u001b[0mself\u001b[0m\u001b[0;34m.\u001b[0m\u001b[0mlist_of_available_units\u001b[0m \u001b[0;34m=\u001b[0m \u001b[0mlist\u001b[0m\u001b[0;34m(\u001b[0m\u001b[0mavailable_units\u001b[0m\u001b[0;34m)\u001b[0m\u001b[0;34m\u001b[0m\u001b[0m\n\u001b[1;32m     94\u001b[0m \u001b[0;34m\u001b[0m\u001b[0m\n",
      "\u001b[0;31mUnitsNotOrtogonalException\u001b[0m: The number of orthoganal units is incorrect, expected 3 but found 2. To convert between S.I. units and another system of units a set of quantities with orthogonal units is needed. These can be quantities with a single unit (such as length or time) or quantities with a derived units (such as velocity or force)"
     ]
    }
   ],
   "source": [
    "generic_unit_converter.ConvertBetweenGenericAndSiUnits(\n",
    "    1 | units.MSun, \n",
    "    1 | units.AU, \n",
    "    1 | units.m\n",
    ")"
   ]
  },
  {
   "cell_type": "markdown",
   "metadata": {},
   "source": [
    "As an example, the following defines a converter for Planck units:"
   ]
  },
  {
   "cell_type": "code",
   "execution_count": 10,
   "metadata": {},
   "outputs": [
    {
     "name": "stdout",
     "output_type": "stream",
     "text": [
      "2.17643740821e-08 kg\n",
      "5.39123788657e-44 s\n",
      "1.61625245768e-35 m\n",
      "1.87554586987e-18 C\n",
      "1.41678472104e+32 K\n"
     ]
    }
   ],
   "source": [
    "natural_units_convert = generic_unit_converter.ConvertBetweenGenericAndSiUnits(constants.c,\n",
    "                                  constants.G,\n",
    "                                  constants.hbar,\n",
    "                                  1/(4*units.pi*constants.eps0),\n",
    "                                  constants.kB)\n",
    "\n",
    "M = 1 | generic_unit_system.mass\n",
    "T = 1 | generic_unit_system.time\n",
    "L = 1 | generic_unit_system.length\n",
    "Q = 1 | generic_unit_system.charge\n",
    "THETA= 1| generic_unit_system.temperature\n",
    "\n",
    "print natural_units_convert.to_si(M).in_(units.kg)\n",
    "print natural_units_convert.to_si(T).in_(units.s)\n",
    "print natural_units_convert.to_si(L).in_(units.m)\n",
    "print natural_units_convert.to_si(Q).in_(units.C)\n",
    "print natural_units_convert.to_si(THETA).in_(units.K)"
   ]
  },
  {
   "cell_type": "markdown",
   "metadata": {},
   "source": [
    "Ofcourse unit commensurability is still enforced:"
   ]
  },
  {
   "cell_type": "code",
   "execution_count": 11,
   "metadata": {},
   "outputs": [
    {
     "ename": "IncompatibleUnitsException",
     "evalue": "Cannot express time in length, the units do not have the same bases",
     "output_type": "error",
     "traceback": [
      "\u001b[0;31m---------------------------------------------------------------------------\u001b[0m",
      "\u001b[0;31mIncompatibleUnitsException\u001b[0m                Traceback (most recent call last)",
      "\u001b[0;32m<ipython-input-11-3dcb52ea36d7>\u001b[0m in \u001b[0;36m<module>\u001b[0;34m()\u001b[0m\n\u001b[0;32m----> 1\u001b[0;31m \u001b[0;32mprint\u001b[0m \u001b[0;34m(\u001b[0m\u001b[0;36m10.0\u001b[0m \u001b[0;34m|\u001b[0m \u001b[0mnbody_system\u001b[0m\u001b[0;34m.\u001b[0m\u001b[0mlength\u001b[0m\u001b[0;34m)\u001b[0m \u001b[0;34m+\u001b[0m \u001b[0;34m(\u001b[0m\u001b[0;36m10.0\u001b[0m \u001b[0;34m|\u001b[0m \u001b[0mgeneric_unit_system\u001b[0m\u001b[0;34m.\u001b[0m\u001b[0mtime\u001b[0m\u001b[0;34m)\u001b[0m\u001b[0;34m\u001b[0m\u001b[0m\n\u001b[0m",
      "\u001b[0;32m/home/bruno/Software/amuse/src/amuse/units/quantities.pyc\u001b[0m in \u001b[0;36m__add__\u001b[0;34m(self, other)\u001b[0m\n\u001b[1;32m    104\u001b[0m         \u001b[0;32melse\u001b[0m\u001b[0;34m:\u001b[0m\u001b[0;34m\u001b[0m\u001b[0m\n\u001b[1;32m    105\u001b[0m             \u001b[0mother\u001b[0m \u001b[0;34m=\u001b[0m \u001b[0mto_quantity\u001b[0m\u001b[0;34m(\u001b[0m\u001b[0mother\u001b[0m\u001b[0;34m)\u001b[0m\u001b[0;34m\u001b[0m\u001b[0m\n\u001b[0;32m--> 106\u001b[0;31m             \u001b[0mfactor\u001b[0m \u001b[0;34m=\u001b[0m \u001b[0mother\u001b[0m\u001b[0;34m.\u001b[0m\u001b[0munit\u001b[0m\u001b[0;34m.\u001b[0m\u001b[0mconversion_factor_from\u001b[0m\u001b[0;34m(\u001b[0m\u001b[0mself\u001b[0m\u001b[0;34m.\u001b[0m\u001b[0munit\u001b[0m\u001b[0;34m)\u001b[0m\u001b[0;34m\u001b[0m\u001b[0m\n\u001b[0m\u001b[1;32m    107\u001b[0m             \u001b[0;32mreturn\u001b[0m \u001b[0mnew_quantity\u001b[0m\u001b[0;34m(\u001b[0m\u001b[0mself\u001b[0m\u001b[0;34m.\u001b[0m\u001b[0mnumber\u001b[0m \u001b[0;34m+\u001b[0m \u001b[0mfactor\u001b[0m\u001b[0;34m*\u001b[0m\u001b[0mother\u001b[0m\u001b[0;34m.\u001b[0m\u001b[0mnumber\u001b[0m\u001b[0;34m,\u001b[0m \u001b[0mself\u001b[0m\u001b[0;34m.\u001b[0m\u001b[0munit\u001b[0m\u001b[0;34m)\u001b[0m\u001b[0;34m\u001b[0m\u001b[0m\n\u001b[1;32m    108\u001b[0m     \u001b[0m__radd__\u001b[0m \u001b[0;34m=\u001b[0m \u001b[0m__add__\u001b[0m\u001b[0;34m\u001b[0m\u001b[0m\n",
      "\u001b[0;32m/home/bruno/Software/amuse/src/amuse/support/core.pyc\u001b[0m in \u001b[0;36mmemof\u001b[0;34m(*arg)\u001b[0m\n\u001b[1;32m    520\u001b[0m             \u001b[0;32mif\u001b[0m \u001b[0mlen\u001b[0m\u001b[0;34m(\u001b[0m\u001b[0mmemof\u001b[0m\u001b[0;34m.\u001b[0m\u001b[0md\u001b[0m\u001b[0;34m)\u001b[0m\u001b[0;34m>\u001b[0m\u001b[0;36m5000\u001b[0m\u001b[0;34m:\u001b[0m\u001b[0;34m\u001b[0m\u001b[0m\n\u001b[1;32m    521\u001b[0m                 \u001b[0;32mraise\u001b[0m \u001b[0mException\u001b[0m\u001b[0;34m(\u001b[0m\u001b[0;34m\"long memo dict:\"\u001b[0m\u001b[0;34m+\u001b[0m\u001b[0mstr\u001b[0m\u001b[0;34m(\u001b[0m\u001b[0mlen\u001b[0m\u001b[0;34m(\u001b[0m\u001b[0mmemof\u001b[0m\u001b[0;34m.\u001b[0m\u001b[0md\u001b[0m\u001b[0;34m)\u001b[0m\u001b[0;34m)\u001b[0m\u001b[0;34m)\u001b[0m\u001b[0;34m\u001b[0m\u001b[0m\n\u001b[0;32m--> 522\u001b[0;31m             \u001b[0mresult\u001b[0m\u001b[0;34m=\u001b[0m\u001b[0mf\u001b[0m\u001b[0;34m(\u001b[0m\u001b[0;34m*\u001b[0m\u001b[0marg\u001b[0m\u001b[0;34m)\u001b[0m\u001b[0;34m\u001b[0m\u001b[0m\n\u001b[0m\u001b[1;32m    523\u001b[0m             \u001b[0mmemof\u001b[0m\u001b[0;34m.\u001b[0m\u001b[0md\u001b[0m\u001b[0;34m[\u001b[0m\u001b[0marg\u001b[0m\u001b[0;34m]\u001b[0m\u001b[0;34m=\u001b[0m\u001b[0mresult\u001b[0m\u001b[0;34m\u001b[0m\u001b[0m\n\u001b[1;32m    524\u001b[0m             \u001b[0;32mreturn\u001b[0m \u001b[0mresult\u001b[0m\u001b[0;34m\u001b[0m\u001b[0m\n",
      "\u001b[0;32m/home/bruno/Software/amuse/src/amuse/units/core.pyc\u001b[0m in \u001b[0;36mconversion_factor_from\u001b[0;34m(self, x)\u001b[0m\n\u001b[1;32m    300\u001b[0m             \u001b[0;32mreturn\u001b[0m \u001b[0;36m1\u001b[0m\u001b[0;34m*\u001b[0m\u001b[0;34m(\u001b[0m\u001b[0mthis_factor\u001b[0m \u001b[0;34m==\u001b[0m \u001b[0mother_factor\u001b[0m\u001b[0;34m)\u001b[0m \u001b[0;32mor\u001b[0m \u001b[0mthis_factor\u001b[0m \u001b[0;34m/\u001b[0m \u001b[0mother_factor\u001b[0m\u001b[0;34m\u001b[0m\u001b[0m\n\u001b[1;32m    301\u001b[0m         \u001b[0;32melse\u001b[0m\u001b[0;34m:\u001b[0m\u001b[0;34m\u001b[0m\u001b[0m\n\u001b[0;32m--> 302\u001b[0;31m             \u001b[0;32mraise\u001b[0m \u001b[0mIncompatibleUnitsException\u001b[0m\u001b[0;34m(\u001b[0m\u001b[0mx\u001b[0m\u001b[0;34m,\u001b[0m \u001b[0mself\u001b[0m\u001b[0;34m)\u001b[0m\u001b[0;34m\u001b[0m\u001b[0m\n\u001b[0m\u001b[1;32m    303\u001b[0m \u001b[0;34m\u001b[0m\u001b[0m\n\u001b[1;32m    304\u001b[0m \u001b[0;34m\u001b[0m\u001b[0m\n",
      "\u001b[0;31mIncompatibleUnitsException\u001b[0m: Cannot express time in length, the units do not have the same bases"
     ]
    }
   ],
   "source": [
    "print (10.0 | nbody_system.length) + (10.0 | generic_unit_system.time)"
   ]
  },
  {
   "cell_type": "code",
   "execution_count": null,
   "metadata": {},
   "outputs": [],
   "source": []
  }
 ],
 "metadata": {
  "kernelspec": {
   "display_name": "Python 2",
   "language": "python",
   "name": "python2"
  },
  "language_info": {
   "codemirror_mode": {
    "name": "ipython",
    "version": 2
   },
   "file_extension": ".py",
   "mimetype": "text/x-python",
   "name": "python",
   "nbconvert_exporter": "python",
   "pygments_lexer": "ipython2",
   "version": "2.7.12"
  }
 },
 "nbformat": 4,
 "nbformat_minor": 1
}
