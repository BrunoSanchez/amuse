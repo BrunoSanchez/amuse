{
 "cells": [
  {
   "cell_type": "markdown",
   "metadata": {},
   "source": [
    "AMUSE pre-defines a number of calculcated attributes on particle sets, such as the kinetic energy of the particles in the set. These calculated attributes are used often and provide a sufficient set to start out with, but they do not define a *complete* set. It's possible to define your own attributes and extend the attributes on a particle set."
   ]
  },
  {
   "cell_type": "code",
   "execution_count": 2,
   "metadata": {},
   "outputs": [],
   "source": [
    "from amuse.lab import *"
   ]
  },
  {
   "cell_type": "markdown",
   "metadata": {},
   "source": [
    "As shown in the previous example, you can create a particle set by specifying the number of particles and setting their attributes. You can also create a particle set by using an inital condition function. For stellar clusters the commonly used plummer and king models are available. For this tutorial we will start with a king model. Global clusters created with a king model need the number of stars in the cluster and a dimensionless depth parameter that determines the depth of the potential well in the center of the cluster."
   ]
  },
  {
   "cell_type": "code",
   "execution_count": 6,
   "metadata": {
    "scrolled": false
   },
   "outputs": [
    {
     "name": "stdout",
     "output_type": "stream",
     "text": [
      "                 key         mass       radius           vx           vy           vz            x            y            z\n",
      "                   -         mass       length  length / time  length / time  length / time       length       length       length\n",
      "====================  ===========  ===========  ===========  ===========  ===========  ===========  ===========  ===========\n",
      " 6704747357719596849    1.000e-03    0.000e+00    1.658e-01    3.622e-01   -5.421e-01    1.350e-01   -4.562e-01   -1.149e-01\n",
      "11657053871969064497    1.000e-03    0.000e+00    6.101e-02   -4.260e-02   -6.503e-01   -9.230e-01    1.060e+00    4.875e-03\n",
      "17722986482141176612    1.000e-03    0.000e+00   -2.777e-01   -3.625e-01   -3.992e-01    2.248e-01    2.078e-01   -2.160e-01\n",
      "16560660825073468465    1.000e-03    0.000e+00    5.552e-01    4.422e-01    9.498e-02   -4.600e-01    6.748e-01    2.319e-01\n",
      " 3989912370406662206    1.000e-03    0.000e+00   -1.817e-01   -2.808e-02   -4.019e-01   -4.038e-02   -3.795e-01    6.484e-01\n",
      "10632035786433158351    1.000e-03    0.000e+00    4.107e-02   -1.074e+00   -6.415e-01    5.464e-02   -1.827e-01   -2.118e-02\n",
      "  933359036114977087    1.000e-03    0.000e+00    1.365e-01    4.082e-01   -2.022e-01   -1.272e-01   -3.906e-01    8.525e-01\n",
      " 2340709807646496297    1.000e-03    0.000e+00    4.073e-01   -2.035e-01   -4.780e-02    7.919e-01    1.314e+00    8.022e-01\n",
      "14361238707934954223    1.000e-03    0.000e+00    2.971e-01    2.004e-01    2.904e-01   -9.542e-01   -4.903e-01   -9.661e-01\n",
      "17731949425912007810    1.000e-03    0.000e+00    4.390e-01   -5.772e-03   -3.533e-01   -7.810e-01    6.479e-01    9.407e-02\n",
      "13541194872010657367    1.000e-03    0.000e+00    1.495e-01    1.302e-01    9.679e-02    2.481e-01    5.929e-01   -3.524e-01\n",
      "12879696770428391498    1.000e-03    0.000e+00   -5.299e-01   -1.690e-02    1.662e-01    7.938e-01    4.875e-01    4.151e-01\n",
      "  107861345168660676    1.000e-03    0.000e+00    2.275e-01   -3.951e-01   -2.580e-01    1.475e-01   -1.017e+00   -2.406e-01\n",
      "17343700200903475495    1.000e-03    0.000e+00    9.262e-01   -6.693e-01   -2.218e-01   -2.117e-02   -3.457e-01   -4.283e-02\n",
      " 4716519685019926109    1.000e-03    0.000e+00    1.810e-01    2.965e-01    2.543e-01    1.913e-01   -3.594e-01   -3.563e-01\n",
      "15030398530538137775    1.000e-03    0.000e+00    1.847e-01   -7.732e-01    1.336e-02    1.162e+00    7.023e-02    1.808e-01\n",
      "12081334196488866590    1.000e-03    0.000e+00    2.109e-01    3.307e-01    3.416e-01    4.469e-01   -1.372e-01    4.396e-01\n",
      "14086756117460700120    1.000e-03    0.000e+00    1.538e-01   -5.797e-01   -1.688e-02    2.929e-01   -1.041e+00   -9.266e-01\n",
      "18244296279952380523    1.000e-03    0.000e+00    7.287e-01    1.393e-02    1.589e-01   -1.291e-01    1.286e-01    3.787e-01\n",
      " 8068508546231782841    1.000e-03    0.000e+00    1.803e-01    7.321e-03   -4.973e-01    1.035e+00    6.119e-01    2.800e-01\n",
      "                 ...          ...          ...          ...          ...          ...          ...          ...          ...\n",
      " 2249677449237435015    1.000e-03    0.000e+00   -5.407e-01   -1.998e-01    2.408e-01    3.065e-01    3.736e-02    5.053e-04\n",
      "11841140081000608810    1.000e-03    0.000e+00    2.855e-01   -8.288e-02    1.334e-01    8.777e-01    1.898e-01    2.041e-01\n",
      " 4883281852695182756    1.000e-03    0.000e+00   -5.033e-01    6.376e-01   -4.050e-01    3.284e-02    6.373e-01   -9.092e-01\n",
      "12681941061567742896    1.000e-03    0.000e+00   -2.901e-01   -4.133e-01   -4.324e-01    8.959e-03    2.844e-01    6.128e-01\n",
      "11913226460857380308    1.000e-03    0.000e+00   -3.278e-01    1.456e-01   -4.810e-01    3.021e-01    9.258e-01    1.404e+00\n",
      " 6959421561759814797    1.000e-03    0.000e+00   -3.450e-01    3.203e-02   -2.465e-01    2.770e-01    1.069e+00   -2.823e-01\n",
      "  834382095253514722    1.000e-03    0.000e+00   -3.515e-01   -4.960e-01    4.712e-01    1.525e-01    1.469e-02   -4.085e-01\n",
      "10889964609586738051    1.000e-03    0.000e+00   -2.152e-01   -1.260e-01    1.650e-01   -3.218e-01   -2.890e-01   -1.497e-01\n",
      " 2581972225773056100    1.000e-03    0.000e+00   -4.170e-02   -6.517e-01   -6.047e-01    1.474e-01    4.256e-01   -1.892e-01\n",
      " 3675630112823991606    1.000e-03    0.000e+00    1.896e-02   -2.713e-01    2.968e-01   -4.488e-01   -6.566e-01    3.915e-01\n",
      "15110301760636606174    1.000e-03    0.000e+00    2.138e-01    2.592e-01   -1.518e-01   -8.496e-01    1.467e+00   -2.993e-01\n",
      " 3946460045793615250    1.000e-03    0.000e+00    1.193e-01    2.586e-01    3.531e-01   -5.698e-01    4.626e-01    1.029e+00\n",
      " 5953354789752337229    1.000e-03    0.000e+00    7.448e-02    4.246e-02   -3.447e-01    1.352e+00   -8.331e-01   -1.690e-01\n",
      " 1498604556664311599    1.000e-03    0.000e+00    3.549e-01   -2.272e-01    5.825e-03    6.756e-01    1.238e+00    7.180e-01\n",
      "12616243124400885214    1.000e-03    0.000e+00    7.301e-01   -2.049e-01   -1.499e-01   -6.790e-01    1.194e+00   -1.249e-01\n",
      "13860302842080901653    1.000e-03    0.000e+00    5.933e-01    4.187e-01    2.645e-01   -4.307e-01    2.141e-01   -3.500e-01\n",
      " 3652816359144682576    1.000e-03    0.000e+00    1.301e-01   -1.145e-01    3.735e-01   -1.645e-01    1.763e-01    3.270e-02\n",
      "  611629174751380432    1.000e-03    0.000e+00    1.096e-01    2.439e-01   -5.313e-01    1.724e-02    1.552e+00    3.811e-01\n",
      "10027606289524027503    1.000e-03    0.000e+00   -1.110e-01    1.947e-01    4.254e-01   -1.055e+00    7.145e-01   -8.090e-01\n",
      " 3739734559137826922    1.000e-03    0.000e+00    1.178e-01   -3.803e-01   -3.371e-03    4.394e-01    3.593e-01    3.887e-01\n",
      "====================  ===========  ===========  ===========  ===========  ===========  ===========  ===========  ===========\n"
     ]
    }
   ],
   "source": [
    "particles = new_king_model(1000, 3)\n",
    "print particles"
   ]
  },
  {
   "cell_type": "markdown",
   "metadata": {},
   "source": [
    "Common properties for a stellar cluster are its  center of mass position, total kinetic energy and potential energy."
   ]
  },
  {
   "cell_type": "code",
   "execution_count": 7,
   "metadata": {},
   "outputs": [
    {
     "name": "stdout",
     "output_type": "stream",
     "text": [
      "center of mass [-5.20417042793e-18, -1.38777878078e-17, 6.61363325216e-18] length\n",
      "kinetic energy 0.254370721532 length**2 * time**-2 * mass\n",
      "potential energy -0.503127240277 length**2 * time**-2 * mass\n"
     ]
    }
   ],
   "source": [
    "print \"center of mass\", particles.center_of_mass()\n",
    "print \"kinetic energy\", particles.kinetic_energy()\n",
    "print \"potential energy\", particles.potential_energy(G = nbody_system.G)"
   ]
  },
  {
   "cell_type": "markdown",
   "metadata": {},
   "source": [
    "For the potential energy calculation we need to specify the gravitational constant, as the default value will use the gavitational constant in S.I. units and we are working in nbody units for this tutorial.\n",
    "\n",
    "In N-body calculations and reporting, the kinetic and potential energy of a set of stars is often scaled to exactly 0.25 and -0.5 respectively. AMUSE also has a function for this."
   ]
  },
  {
   "cell_type": "code",
   "execution_count": 9,
   "metadata": {},
   "outputs": [
    {
     "name": "stdout",
     "output_type": "stream",
     "text": [
      "kinetic energy 0.25 length**2 * time**-2 * mass\n",
      "potential energy -0.5 length**2 * time**-2 * mass\n"
     ]
    }
   ],
   "source": [
    "particles.scale_to_standard()\n",
    "print \"kinetic energy\", particles.kinetic_energy()\n",
    "print \"potential energy\", particles.potential_energy(G = nbody_system.G)"
   ]
  },
  {
   "cell_type": "markdown",
   "metadata": {},
   "source": [
    "*Note that the potential energy and scaling calculations are implemented as order N-squared operations*\n",
    "\n",
    "Attributes of particle sets are always 1 dimensional by default, an array with a single value per particle attribute. But for some attributes it is easier to work with a 2d set, an array with multiple values (or an array of values) per particle attribute. For example, the positions of all particles. These attributes are called vector-attributes and are defined as a combination of 2 or more simple attributes. \n",
    "\n",
    "The position attribute combines the values of the `x`, `y` and `z` attributes."
   ]
  },
  {
   "cell_type": "code",
   "execution_count": 10,
   "metadata": {},
   "outputs": [
    {
     "name": "stdout",
     "output_type": "stream",
     "text": [
      "0.135794340207 length\n",
      "-0.459070467998 length\n",
      "-0.11560707719 length\n",
      "[0.135794340207, -0.459070467998, -0.11560707719] length\n"
     ]
    }
   ],
   "source": [
    "print particles[0].x\n",
    "print particles[0].y\n",
    "print particles[0].z\n",
    "print particles[0].position"
   ]
  },
  {
   "cell_type": "markdown",
   "metadata": {},
   "source": [
    "Other common vector attributes are `velocity` (combination of `vx`,`vy`,`vz`) and `acceleration` (combination of `ax`,`ay`,`az`).\n",
    "\n",
    "You can set the value of a position attribute and the underlying x, y or z attributes will be changed. "
   ]
  },
  {
   "cell_type": "code",
   "execution_count": 11,
   "metadata": {},
   "outputs": [
    {
     "name": "stdout",
     "output_type": "stream",
     "text": [
      "0.0 length\n",
      "0.1 length\n",
      "0.2 length\n"
     ]
    }
   ],
   "source": [
    "particles[0].position = [0, 0.1, 0.2] | nbody_system.length\n",
    "print particles[0].x\n",
    "print particles[0].y\n",
    "print particles[0].z"
   ]
  },
  {
   "cell_type": "markdown",
   "metadata": {},
   "source": [
    "You can set the value of the x, y or z attribute and the position will change (as the position is just a combination of these attributes)."
   ]
  },
  {
   "cell_type": "code",
   "execution_count": 12,
   "metadata": {},
   "outputs": [
    {
     "name": "stdout",
     "output_type": "stream",
     "text": [
      "[0.3, 0.1, 0.2] length\n"
     ]
    }
   ],
   "source": [
    "\n",
    "particles[0].x = 0.3 | nbody_system.length\n",
    "print particles[0].position"
   ]
  },
  {
   "cell_type": "markdown",
   "metadata": {},
   "source": [
    "You cannot change an item in the position array and thereby change the x, y, or z positions"
   ]
  },
  {
   "cell_type": "code",
   "execution_count": 13,
   "metadata": {},
   "outputs": [
    {
     "name": "stdout",
     "output_type": "stream",
     "text": [
      "0.3 length\n",
      "[0.3, 0.1, 0.2] length\n"
     ]
    }
   ],
   "source": [
    "particles[0].position[0] = 0.5 | nbody_system.length # this will not change anything in the particles set as the position is a copy\n",
    "print particles[0].x\n",
    "print particles[0].position"
   ]
  },
  {
   "cell_type": "markdown",
   "metadata": {},
   "source": [
    "You can use the position attribute on the entire set. Let's print the positions of the first 10 particles."
   ]
  },
  {
   "cell_type": "code",
   "execution_count": 14,
   "metadata": {},
   "outputs": [
    {
     "name": "stdout",
     "output_type": "stream",
     "text": [
      "[[0.3, 0.1, 0.2], [-0.92879422844, 1.06644123555, 0.00490560170918], [0.22617569642, 0.209049784356, -0.217320432778], [-0.462882936294, 0.67903125233, 0.23334482289], [-0.0406286549574, -0.381843918657, 0.652453072717], [0.0549782382404, -0.183798495109, -0.0213094577627], [-0.128021649652, -0.393037203051, 0.85782839875], [0.796882294931, 1.32188561088, 0.807176858734], [-0.960152138203, -0.493401722265, -0.972127568242], [-0.785898772751, 0.651971144322, 0.0946621151321]] length\n"
     ]
    }
   ],
   "source": [
    "print particles.position[0:10]"
   ]
  },
  {
   "cell_type": "markdown",
   "metadata": {},
   "source": [
    "You can also use the position attribute to set values for the entire set"
   ]
  },
  {
   "cell_type": "code",
   "execution_count": 15,
   "metadata": {},
   "outputs": [
    {
     "name": "stdout",
     "output_type": "stream",
     "text": [
      "[[0.1, 0.2, 0.3], [0.1, 0.2, 0.3], [0.1, 0.2, 0.3], [0.1, 0.2, 0.3], [0.1, 0.2, 0.3], [0.1, 0.2, 0.3], [0.1, 0.2, 0.3], [0.1, 0.2, 0.3], [0.1, 0.2, 0.3], [0.1, 0.2, 0.3]] length\n",
      "[0.1, 0.1, 0.1, 0.1, 0.1, 0.1, 0.1, 0.1, 0.1, 0.1] length\n"
     ]
    }
   ],
   "source": [
    "particles.position = [0.1, 0.2, 0.3] | nbody_system.length # set the position of all particles in the set to the same value\n",
    "print particles.position[0:10]\n",
    "print particles.x[0:10]"
   ]
  },
  {
   "cell_type": "markdown",
   "metadata": {},
   "source": [
    "Defining a new vector attribute is done by calling the `add_vector_attribute` or `add_global_vector_attribute`. The first call will define the attribute on the particle set and not on any other set. The second call will define the attribute on the particle set and any future sets created in the script. (The second call is used in the amuse framework itself to define the `position`, `velocity` and `acceleration` attributes)"
   ]
  },
  {
   "cell_type": "code",
   "execution_count": 16,
   "metadata": {},
   "outputs": [
    {
     "name": "stdout",
     "output_type": "stream",
     "text": [
      "[0.1, 0.2] length\n"
     ]
    }
   ],
   "source": [
    "particles.add_vector_attribute('position2d', ('x', 'y'))\n",
    "print particles[0].position2d"
   ]
  },
  {
   "cell_type": "markdown",
   "metadata": {},
   "source": [
    "If you enter `particles.add_` and press tab you'll notice two other function besides the `add_vector_attribute` function; `add_calculated_attribute` will create an attribute where the values are calculated based on other attributes, `add_function_attribute` will create a function on the set that gets the set and optional function parameters. These function also have global versions (`add_global_...`). The `add_global_function_attribute` call is used in the AMUSE framework to implement the `kinetic_energy` and `potential_energy` functions.\n"
   ]
  },
  {
   "cell_type": "code",
   "execution_count": 17,
   "metadata": {},
   "outputs": [
    {
     "name": "stdout",
     "output_type": "stream",
     "text": [
      "1.0 mass\n"
     ]
    }
   ],
   "source": [
    "particles.add_function_attribute('calculate_total_mass', lambda particles : particles.mass.sum())\n",
    "print particles.calculate_total_mass()"
   ]
  },
  {
   "cell_type": "code",
   "execution_count": null,
   "metadata": {
    "collapsed": true
   },
   "outputs": [],
   "source": []
  }
 ],
 "metadata": {
  "kernelspec": {
   "display_name": "Python 2",
   "language": "python",
   "name": "python2"
  },
  "language_info": {
   "codemirror_mode": {
    "name": "ipython",
    "version": 2
   },
   "file_extension": ".py",
   "mimetype": "text/x-python",
   "name": "python",
   "nbconvert_exporter": "python",
   "pygments_lexer": "ipython2",
   "version": "2.7.12"
  }
 },
 "nbformat": 4,
 "nbformat_minor": 1
}
